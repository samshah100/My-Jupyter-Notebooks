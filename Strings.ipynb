{
 "cells": [
  {
   "cell_type": "markdown",
   "metadata": {},
   "source": [
    "<h1>C style strings</h1>\n",
    "C style strings are array of characters terminating with a NULL character"
   ]
  },
  {
   "cell_type": "markdown",
   "metadata": {},
   "source": [
    "Demonstration of C style strings\n",
    "(Source: https://www.geeksforgeeks.org/how-to-convert-c-style-strings-to-stdstring-and-vice-versa/)"
   ]
  },
  {
   "cell_type": "code",
   "execution_count": 1,
   "metadata": {},
   "outputs": [],
   "source": [
    "#include<iostream> \n",
    "using namespace std; "
   ]
  },
  {
   "cell_type": "code",
   "execution_count": 2,
   "metadata": {},
   "outputs": [
    {
     "name": "stdout",
     "output_type": "stream",
     "text": [
      "HELLO-1\n",
      "HELLO-2\n",
      "HELLO-3"
     ]
    }
   ],
   "source": [
    "// Initializing a C-string\n",
    "/* Null character has to be added explicitly */\n",
    "char str1[8] = {'H' , 'E' , 'L' , 'L' , 'O' , '-','1','\\0' }; \n",
    "      \n",
    "/* Compiler implicitly adds Null character */\n",
    "char str2[] = \"HELLO-2\" ;   \n",
    "\n",
    "// String as an array of characters\n",
    "/* Compiler implicitly adds Null character.  \n",
    "Note that string literals are typically stored as read only */\n",
    "const char *str3 = \"HELLO-3\" ; \n",
    "  \n",
    "cout << str1 << endl << str2 << endl << str3; "
   ]
  },
  {
   "cell_type": "markdown",
   "metadata": {},
   "source": [
    "Functions for manipulating C style strings:\n",
    "C style strings are operated with very useful functions like strcpy(), strlen(), strpbrk(), strcat(), strstr() and many more!  (All these functions are member functions of ‘cstring‘ header )."
   ]
  },
  {
   "cell_type": "markdown",
   "metadata": {},
   "source": [
    "# C++ strings\n",
    "C++ standard library contains String class. Here we deal with an object of string class. This std::string takes care of itself and manages its own memory."
   ]
  },
  {
   "cell_type": "markdown",
   "metadata": {},
   "source": [
    "Demonstration of C++ strings"
   ]
  },
  {
   "cell_type": "code",
   "execution_count": 3,
   "metadata": {},
   "outputs": [],
   "source": [
    "#include<iostream> \n",
    "#include<string> "
   ]
  },
  {
   "cell_type": "code",
   "execution_count": 4,
   "metadata": {},
   "outputs": [
    {
     "name": "stdout",
     "output_type": "stream",
     "text": [
      "HELLO"
     ]
    }
   ],
   "source": [
    "/* Creating object s of class string */\n",
    "string s;   \n",
    "  \n",
    "/* Initialization. */           \n",
    "s = \"HELLO\"; \n",
    "          \n",
    "cout << s; "
   ]
  },
  {
   "cell_type": "markdown",
   "metadata": {},
   "source": [
    "# Converting C-String to a std::string"
   ]
  },
  {
   "cell_type": "markdown",
   "metadata": {},
   "source": [
    "Converting a C-string to a C++ string is useful because\n",
    "<ul>\n",
    "<li>Std::string manages its own space. So programmer don’t need to worry about memory , unlike C strings (Since they are array of characters)</li>\n",
    "<li>They are easy to operate. ‘+’ operator for concatenation, ‘=’ for assignment, can be compared using regular operators.</li>\n",
    "<li>string::find() and many other functions can be implemented on std::string and not on C-Strings so this becomes handy.</li>\n",
    "    <li>Iterators can be used in std::string and not in C-strings.</li>"
   ]
  },
  {
   "cell_type": "markdown",
   "metadata": {},
   "source": [
    "Demonstration of converting C-string to C++ string"
   ]
  },
  {
   "cell_type": "code",
   "execution_count": 5,
   "metadata": {},
   "outputs": [
    {
     "name": "stdout",
     "output_type": "stream",
     "text": [
      "This is a C-String : Testing\n",
      "This is a std::string : Testing\n"
     ]
    }
   ],
   "source": [
    "// Initializing a C-string\n",
    "const char *a = \"Testing\";  \n",
    "cout << \"This is a C-String : \"<< a << endl; \n",
    "  \n",
    "/* Creating a C++ string from a C-string */\n",
    "string s2(a);   \n",
    "     \n",
    "/* Now s2 is a std::string and a is a C-String */\n",
    "cout << \"This is a std::string : \"<< s2 << endl; "
   ]
  },
  {
   "cell_type": "code",
   "execution_count": 6,
   "metadata": {},
   "outputs": [
    {
     "name": "stdout",
     "output_type": "stream",
     "text": [
      "This is a std::string : Testing\n"
     ]
    }
   ],
   "source": [
    "// Converting character array to C++ string\n",
    "char b[] = \"Testing\"; \n",
    "string s3(b); \n",
    "cout << \"This is a std::string : \"<< s3 << endl;"
   ]
  },
  {
   "cell_type": "markdown",
   "metadata": {},
   "source": [
    "<h1>Converting a std::string to a C style string</h1>"
   ]
  },
  {
   "cell_type": "markdown",
   "metadata": {},
   "source": [
    "Why do we need this transformation? From std::string to a C string? Because\n",
    "<ul>\n",
    "    <li>there are several powerful functions in header that makes our work very much easier. </li>\n",
    "    <li>atoi() , itoa() , and many more functions work with C strings only.</li>\n",
    "</ul>"
   ]
  },
  {
   "cell_type": "code",
   "execution_count": 7,
   "metadata": {},
   "outputs": [],
   "source": [
    "#include<iostream> \n",
    "#include<string> "
   ]
  },
  {
   "cell_type": "code",
   "execution_count": 8,
   "metadata": {},
   "outputs": [
    {
     "name": "stdout",
     "output_type": "stream",
     "text": [
      "This is a std::string : Testing\n",
      "This is a C-string : Testing\n"
     ]
    }
   ],
   "source": [
    "string s4 = \"Testing\";   \n",
    "cout << \"This is a std::string : \"<< s4 << endl; \n",
    "/* Address of first character of std::string is  \n",
    "       stored to char pointer c */\n",
    "char *c = &(s4[0]);   \n",
    "cout << \"This is a C-string : \"<< c << endl;"
   ]
  },
  {
   "cell_type": "markdown",
   "metadata": {},
   "source": [
    "Both C strings and std::strings have their own advantages."
   ]
  },
  {
   "cell_type": "markdown",
   "metadata": {},
   "source": [
    "<h1>C++ String concatenation</h1>"
   ]
  },
  {
   "cell_type": "markdown",
   "metadata": {},
   "source": [
    "The + operator can be used between strings to add them together to make a new string. This is called concatenation:"
   ]
  },
  {
   "cell_type": "code",
   "execution_count": 9,
   "metadata": {},
   "outputs": [
    {
     "name": "stdout",
     "output_type": "stream",
     "text": [
      "John Doe"
     ]
    }
   ],
   "source": [
    "#include <string>  \n",
    "string firstName = \"John \";\n",
    "string lastName = \"Doe\";\n",
    "string fullName = firstName + lastName;\n",
    "cout << fullName;"
   ]
  },
  {
   "cell_type": "markdown",
   "metadata": {},
   "source": [
    "In the example above, we added a space after firstName to create a space between John and Doe on output. However, you could also add a space with quotes (\" \" or ' '):"
   ]
  },
  {
   "cell_type": "code",
   "execution_count": 10,
   "metadata": {},
   "outputs": [
    {
     "name": "stdout",
     "output_type": "stream",
     "text": [
      "John Doe"
     ]
    }
   ],
   "source": [
    "#include <string>  \n",
    "string firstName1 = \"John\";\n",
    "string lastName1 = \"Doe\";\n",
    "string fullName1 = firstName1 + \" \" + lastName1;\n",
    "cout << fullName1;"
   ]
  },
  {
   "cell_type": "markdown",
   "metadata": {},
   "source": [
    "<h2>Concatenation of string literals</h2>"
   ]
  },
  {
   "cell_type": "markdown",
   "metadata": {},
   "source": [
    "In C++, string literals are C-style strings. + operator does not work on string literals."
   ]
  },
  {
   "cell_type": "code",
   "execution_count": 13,
   "metadata": {},
   "outputs": [
    {
     "name": "stderr",
     "output_type": "stream",
     "text": [
      "input_line_21:2:20: error: invalid operands to binary expression ('const char *' and 'const char *')\n",
      " cout << \"Hello, \" + \"World!\" << endl;\n",
      "         ~~~~~~~~~ ^ ~~~~~~~~\n"
     ]
    },
    {
     "ename": "Interpreter Error",
     "evalue": "",
     "output_type": "error",
     "traceback": [
      "Interpreter Error: "
     ]
    }
   ],
   "source": [
    "cout << \"Hello, \" + \"World!\" << endl;"
   ]
  },
  {
   "cell_type": "markdown",
   "metadata": {},
   "source": [
    "To concatenate two strings, we need to convert at least one of them to a C++ string"
   ]
  },
  {
   "cell_type": "code",
   "execution_count": 15,
   "metadata": {},
   "outputs": [
    {
     "name": "stdout",
     "output_type": "stream",
     "text": [
      "Hello, World!\n",
      "Hello, World!\n"
     ]
    }
   ],
   "source": [
    "cout << string(\"Hello, \") + \"World!\" << endl;\n",
    "cout << \"Hello, \"s + \"World!\" << endl;"
   ]
  },
  {
   "cell_type": "markdown",
   "metadata": {},
   "source": [
    "<h2>String Append</h2>\n",
    "A string in C++ is actually an object, which contains functions that can perform certain operations on strings. For example, you can also concatenate strings with the append() function:"
   ]
  },
  {
   "cell_type": "code",
   "execution_count": 20,
   "metadata": {},
   "outputs": [
    {
     "name": "stdout",
     "output_type": "stream",
     "text": [
      "John Doe"
     ]
    }
   ],
   "source": [
    "string firstName2 = \"John \";\n",
    "string lastName2 = \"Doe\";\n",
    "string fullName2 = firstName2.append(lastName2);\n",
    "cout << fullName2;"
   ]
  },
  {
   "cell_type": "markdown",
   "metadata": {},
   "source": [
    "<h2>Converting a number to a string</h2>"
   ]
  },
  {
   "cell_type": "markdown",
   "metadata": {},
   "source": [
    "std::to_string function converts a number to a string"
   ]
  },
  {
   "cell_type": "code",
   "execution_count": 14,
   "metadata": {},
   "outputs": [
    {
     "name": "stdout",
     "output_type": "stream",
     "text": [
      "5\n"
     ]
    }
   ],
   "source": [
    "int my_num = 5;\n",
    "cout << to_string(my_num) << endl;"
   ]
  },
  {
   "cell_type": "markdown",
   "metadata": {},
   "source": [
    "<h2>Application of string concatenation in printing strings</h2>\n",
    "Use + to print a string and an expression's value together"
   ]
  },
  {
   "cell_type": "code",
   "execution_count": 18,
   "metadata": {},
   "outputs": [
    {
     "name": "stdout",
     "output_type": "stream",
     "text": [
      "Average: 83.500000\n"
     ]
    }
   ],
   "source": [
    "cout << \"Average: \" + to_string((95.1 + 71.9)/2) << endl;"
   ]
  },
  {
   "cell_type": "code",
   "execution_count": 19,
   "metadata": {},
   "outputs": [
    {
     "name": "stdout",
     "output_type": "stream",
     "text": [
      "num: 10\n"
     ]
    }
   ],
   "source": [
    "int num = 10;\n",
    "cout << \"num: \" + to_string(num) << endl;"
   ]
  },
  {
   "cell_type": "code",
   "execution_count": null,
   "metadata": {},
   "outputs": [],
   "source": []
  }
 ],
 "metadata": {
  "kernelspec": {
   "display_name": "C++14",
   "language": "C++14",
   "name": "xcpp14"
  },
  "language_info": {
   "codemirror_mode": "text/x-c++src",
   "file_extension": ".cpp",
   "mimetype": "text/x-c++src",
   "name": "c++",
   "version": "14"
  }
 },
 "nbformat": 4,
 "nbformat_minor": 4
}
