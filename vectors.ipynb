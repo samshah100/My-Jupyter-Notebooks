{
 "cells": [
  {
   "cell_type": "markdown",
   "metadata": {},
   "source": [
    "<h1>C++ 11 Vectors</h1>"
   ]
  },
  {
   "cell_type": "code",
   "execution_count": 1,
   "metadata": {},
   "outputs": [],
   "source": [
    "#include <iostream>\n",
    "#include <vector>\n",
    "using namespace std;"
   ]
  },
  {
   "cell_type": "code",
   "execution_count": null,
   "metadata": {},
   "outputs": [],
   "source": []
  },
  {
   "cell_type": "code",
   "execution_count": null,
   "metadata": {},
   "outputs": [],
   "source": []
  },
  {
   "cell_type": "code",
   "execution_count": 2,
   "metadata": {},
   "outputs": [],
   "source": [
    " #include <iostream>\n",
    "#include <vector>\n",
    "using namespace std;\n",
    "std::vector<int> myvector (3,100);\n",
    "std::vector<int>::iterator it;"
   ]
  },
  {
   "cell_type": "code",
   "execution_count": 3,
   "metadata": {},
   "outputs": [
    {
     "name": "stdout",
     "output_type": "stream",
     "text": [
      " 100 100 100"
     ]
    }
   ],
   "source": [
    "for (it=myvector.begin(); it<myvector.end(); it++)\n",
    "    std::cout << ' ' << *it;"
   ]
  },
  {
   "cell_type": "code",
   "execution_count": 4,
   "metadata": {},
   "outputs": [],
   "source": [
    "it = myvector.begin();\n",
    "it = myvector.insert ( it , 200 );"
   ]
  },
  {
   "cell_type": "code",
   "execution_count": 5,
   "metadata": {},
   "outputs": [
    {
     "name": "stdout",
     "output_type": "stream",
     "text": [
      " 200 100 100 100"
     ]
    }
   ],
   "source": [
    "for (it=myvector.begin(); it<myvector.end(); it++)\n",
    "    std::cout << ' ' << *it;"
   ]
  },
  {
   "cell_type": "code",
   "execution_count": null,
   "metadata": {},
   "outputs": [],
   "source": [
    "it = myvector.insert ( it + 1, 200 );"
   ]
  },
  {
   "cell_type": "code",
   "execution_count": null,
   "metadata": {},
   "outputs": [],
   "source": [
    "for (it=myvector.begin(); it<myvector.end(); it++)\n",
    "    std::cout << ' ' << *it;"
   ]
  },
  {
   "cell_type": "code",
   "execution_count": null,
   "metadata": {},
   "outputs": [],
   "source": []
  },
  {
   "cell_type": "code",
   "execution_count": null,
   "metadata": {},
   "outputs": [],
   "source": []
  },
  {
   "cell_type": "code",
   "execution_count": null,
   "metadata": {},
   "outputs": [],
   "source": [
    "// Initialize a vector containing 5 integers\n",
    "vector<int> nums = {42, 17, -6, 0, 28};\n",
    "nums\n",
    "// Initialize vector of type string\n",
    "vector<string> names;\n",
    "names.push_back(\"Stu\");\n",
    "names.push_back(\"Marty\");\n",
    "names.insert(0, \"Ed\");"
   ]
  }
 ],
 "metadata": {
  "kernelspec": {
   "display_name": "C++11",
   "language": "C++11",
   "name": "xcpp11"
  },
  "language_info": {
   "codemirror_mode": "text/x-c++src",
   "file_extension": ".cpp",
   "mimetype": "text/x-c++src",
   "name": "c++",
   "version": "11"
  }
 },
 "nbformat": 4,
 "nbformat_minor": 4
}
