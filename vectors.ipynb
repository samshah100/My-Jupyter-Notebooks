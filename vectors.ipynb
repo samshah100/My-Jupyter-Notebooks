{
 "cells": [
  {
   "cell_type": "markdown",
   "metadata": {},
   "source": [
    "<h1>The Vector Collection (C++ 17)</h1>"
   ]
  },
  {
   "cell_type": "markdown",
   "metadata": {},
   "source": [
    "<h1>Your Second C++ Program: Populate a vector</h1>\n",
    "(L01 CS 106B Spring 2020)"
   ]
  },
  {
   "cell_type": "code",
   "execution_count": 1,
   "metadata": {},
   "outputs": [],
   "source": [
    "#include <iostream>\n",
    "#include <vector>\n",
    "using namespace std;"
   ]
  },
  {
   "cell_type": "code",
   "execution_count": 2,
   "metadata": {},
   "outputs": [],
   "source": [
    "const int NUM_ELEMENTS = 10;"
   ]
  },
  {
   "cell_type": "code",
   "execution_count": 3,
   "metadata": {},
   "outputs": [],
   "source": [
    "// Create an empyt vector of type int\n",
    "vector<int> myList;"
   ]
  },
  {
   "cell_type": "code",
   "execution_count": 4,
   "metadata": {},
   "outputs": [
    {
     "name": "stdout",
     "output_type": "stream",
     "text": [
      "Populating a Vector with even integers less than 20\n"
     ]
    }
   ],
   "source": [
    "cout << \"Populating a Vector with even integers less than \"\n",
    "     << (NUM_ELEMENTS * 2) << endl;"
   ]
  },
  {
   "cell_type": "code",
   "execution_count": 5,
   "metadata": {},
   "outputs": [],
   "source": [
    "for (int i = 0; i < NUM_ELEMENTS; i++) {\n",
    "    myList.push_back(i*2);\n",
    "}"
   ]
  },
  {
   "cell_type": "code",
   "execution_count": 6,
   "metadata": {},
   "outputs": [
    {
     "name": "stdout",
     "output_type": "stream",
     "text": [
      "0\n",
      "2\n",
      "4\n",
      "6\n",
      "8\n",
      "10\n",
      "12\n",
      "14\n",
      "16\n",
      "18\n"
     ]
    }
   ],
   "source": [
    "// Print the vector\n",
    "for (int i = 0; i < NUM_ELEMENTS; i++) {\n",
    "    cout << myList[i] << endl;\n",
    "}"
   ]
  },
  {
   "cell_type": "markdown",
   "metadata": {},
   "source": [
    "Later : Better way to iterate over Vectors? C++ way?"
   ]
  },
  {
   "cell_type": "markdown",
   "metadata": {},
   "source": [
    "<h1>The Vector Collection</h1>"
   ]
  },
  {
   "cell_type": "markdown",
   "metadata": {},
   "source": [
    "<ul>\n",
    "    <li>What is a <b>Vector</b>?</li>\n",
    "        <ul>\n",
    "        <li>It is like a list in Python, or an ArrayList in Java.</li>\n",
    "        <li>It is a list of elements that can grow and shrink.</li>\n",
    "        <li>Each element has a place (or index) in the list.</li>\n",
    "        </ul>\n",
    "    <li>Important Details</li>\n",
    "        <ul>\n",
    "        <li>The constructor creates an empty list (more on constructors soon)</li>\n",
    "        <li>The STL vector class doesnot perform bounds check, meaning that if you try to access an element that is outside the bounds of a vector, the program does not crash.</li>\n",
    "        <li>The Stanford Vector class performs bounds checks, meaning that if you try to access an element that is outside the bounds of a Vector, the program crashes.</li>            \n",
    "        <li>A vector knows its size.</li>\n",
    "        <li>To use STL vectors, you #include &lt;vector&gt;.</li>\n",
    "        <li>To use Stanford Vectors, you #include \"vector.h\".</li>\n",
    "        </ul>\n",
    "</ul>"
   ]
  },
  {
   "cell_type": "markdown",
   "metadata": {},
   "source": [
    "<h1>Creating a Vector</h>"
   ]
  },
  {
   "cell_type": "markdown",
   "metadata": {},
   "source": [
    "<ul><li>You must specify the type of your vector (e.g., <b>int</b>, <b>string</b>, etc.)</li>\n",
    "    <li>When a vector is created it is initially empty.</li>\n",
    "    <li>To create a vector called vec that can hold integers (<b>int</b> s), we write the following: </li>"
   ]
  },
  {
   "cell_type": "code",
   "execution_count": 7,
   "metadata": {},
   "outputs": [],
   "source": [
    "vector<int> vec; "
   ]
  },
  {
   "cell_type": "markdown",
   "metadata": {},
   "source": [
    "This calls the default constructor, which just means that it initializes and creates (constructs) an empty vector for us."
   ]
  },
  {
   "cell_type": "markdown",
   "metadata": {},
   "source": [
    "<h1>Adding elements to a vector</h1>"
   ]
  },
  {
   "cell_type": "markdown",
   "metadata": {},
   "source": [
    "We can add elements to a vector either using the bracket notation or using the push_back() method"
   ]
  },
  {
   "cell_type": "markdown",
   "metadata": {},
   "source": [
    "Here is an example where we create a vector called magic and add the numbers 4, 8, 15, and 16 to the vector, and then print out the element at index 2:"
   ]
  },
  {
   "cell_type": "code",
   "execution_count": 8,
   "metadata": {},
   "outputs": [],
   "source": [
    "vector<int> magic;"
   ]
  },
  {
   "cell_type": "markdown",
   "metadata": {},
   "source": [
    "vec[i]: Selects the ith element of the vector."
   ]
  },
  {
   "cell_type": "code",
   "execution_count": null,
   "metadata": {},
   "outputs": [],
   "source": [
    "// Add an element using bracket notation\n",
    "magic[0] = 4;"
   ]
  },
  {
   "cell_type": "markdown",
   "metadata": {},
   "source": [
    "vec.push_back(value): Adds a new element to the end of the vector."
   ]
  },
  {
   "cell_type": "code",
   "execution_count": 1,
   "metadata": {},
   "outputs": [
    {
     "name": "stderr",
     "output_type": "stream",
     "text": [
      "input_line_7:3:1: error: use of undeclared identifier 'magic'\n",
      "magic.push_back(8);\n",
      "^\n"
     ]
    },
    {
     "ename": "Interpreter Error",
     "evalue": "",
     "output_type": "error",
     "traceback": [
      "Interpreter Error: "
     ]
    }
   ],
   "source": [
    "// Add an element using push_back() method\n",
    "magic.push_back(8);"
   ]
  },
  {
   "cell_type": "code",
   "execution_count": null,
   "metadata": {},
   "outputs": [],
   "source": [
    "magic.push_back(15);\n",
    "magic.push_back(16);"
   ]
  },
  {
   "cell_type": "code",
   "execution_count": null,
   "metadata": {},
   "outputs": [],
   "source": [
    "// print out the element at index 2\n",
    "cout << magic[2] << endl;"
   ]
  },
  {
   "cell_type": "markdown",
   "metadata": {},
   "source": [
    "<ul><li>Notice that the index ordering starts from zero!</li> \n",
    "    <li>In the computer’s memory, our vector is represented by one number after another.</li></ul>"
   ]
  },
  {
   "cell_type": "markdown",
   "metadata": {},
   "source": [
    "<h1>Vectors have useful methods, like size()</h1>\n",
    "vec.size(): Returns the number of elements in the vector.\n"
   ]
  },
  {
   "cell_type": "markdown",
   "metadata": {},
   "source": [
    "The following code loops through the values in the vector and prints them:"
   ]
  },
  {
   "cell_type": "code",
   "execution_count": null,
   "metadata": {},
   "outputs": [],
   "source": [
    "// Print out all the elements of a vector\n",
    "for (int i = 0; i < magic.size(); i++) {\n",
    "    cout << myList[i] << endl;\n",
    "}"
   ]
  },
  {
   "cell_type": "markdown",
   "metadata": {},
   "source": [
    "<h2>A new type of for loop: the for each loop:</h2>\n",
    "??? STL ???\n",
    "for(int value : magic) {\n",
    " cout << value << endl;\n",
    "}\n",
    "Output:\n",
    "4\n",
    "8\n",
    "15\n",
    "16"
   ]
  },
  {
   "cell_type": "markdown",
   "metadata": {},
   "source": [
    "<h1 id=\"vector-functions\">C++ vector Class Methods</h1>"
   ]
  },
  {
   "cell_type": "markdown",
   "metadata": {},
   "source": [
    "<ul>\n",
    "    <li>The following functions are part of the vector collection, and can be useful:\n",
    "        <ul>\n",
    "        <li>vec[i]: Selects the ith element of the vector.</li>\n",
    "        <li>vec.size(): Returns the number of elements in the vector.</li>\n",
    "        <li>vec.empty(): Returns true if the vector is empty, false otherwise.</li>\n",
    "        <li>vec.push_back(value): Adds a new element to the end of the vector.</li>\n",
    "        <i>\n",
    "        <li>vec.begin(): Return iterator to begin</li>\n",
    "        <li>vec.end(): Return iterator to end</li>\n",
    "        <li>vec.insert(iterator position + index, value): Inserts the value before the specified index, and moves the values after it up by one index.</li>\n",
    "        <li>vec.remove(index): Removes the element at the specified index, and moves the rest of the elements down by one index.</li>\n",
    "        </i>\n",
    "        <li>vec.clear(): Removes all elements from the vector.</li>\n",
    "        </ul>        \n",
    "    </li>\n",
    "    <li>For the exhaustive list of vector methods, check out the <a href=\"http://www.cplusplus.com/reference/vector/vector/\">C++ vector class.</a></li>    \n",
    "</ul>"
   ]
  },
  {
   "cell_type": "markdown",
   "metadata": {},
   "source": [
    "<h1>SP1 Vector Class Methods</h1>"
   ]
  },
  {
   "cell_type": "markdown",
   "metadata": {},
   "source": [
    "<ul>\n",
    "    <li>The following functions are part of the vector collection, and can be useful:\n",
    "        <ul>\n",
    "        <li>vec.size(): Returns the number of elements in the vector.</li>\n",
    "        <li>isEmpty(): Returns true if the vector is empty, false otherwise.</li>\n",
    "        <li>vec[i]: Selects the ith element of the vector.</li>\n",
    "        <li>vec.add(value): Adds a new element to the end of the vector.</li>\n",
    "        <li>vec.insert(index, value): Inserts the value before the specified index, and moves the values after it up by one index.</li>\n",
    "        <li>vec.remove(index): Removes the element at the specified index, and moves the rest of the elements down by one index.</li>\n",
    "        <li>vec.clear(): Removes all elements from the vector.</li>\n",
    "        </ul>        \n",
    "    </li>  \n",
    "    <li>For the exhaustive list of Vector methods, check out the <a href=\"https://web.stanford.edu/dept/cs_edu/cppdoc/Vector-class.html\">Stanford Vector class</a></li>\n",
    "</ul>"
   ]
  },
  {
   "cell_type": "markdown",
   "metadata": {},
   "source": [
    "Ref:\n",
    "CS 106L Fall 2019 - Lecture 3: Sequence Containers (Screencast)\n",
    "https://www.youtube.com/watch?v=PgqVnZxLFJY&list=PLCgD3ws8aVdolCexlz8f3U-RROA0s5jWA&index=8"
   ]
  },
  {
   "cell_type": "code",
   "execution_count": null,
   "metadata": {},
   "outputs": [],
   "source": [
    "void printVec(const vector<string>& v) {\n",
    "    cout << \"{ \";\n",
    "    for (auto elem : v) {\n",
    "        cout << elem << \" \";\n",
    "    }\n",
    "    cout << \"}\" << endl;\n",
    "}"
   ]
  },
  {
   "cell_type": "code",
   "execution_count": null,
   "metadata": {},
   "outputs": [],
   "source": [
    "// Create a vector of type string\n",
    "vector<string> names;"
   ]
  },
  {
   "cell_type": "code",
   "execution_count": null,
   "metadata": {},
   "outputs": [],
   "source": [
    "// Add k to the end of the vector: v.push_back(k)"
   ]
  },
  {
   "cell_type": "code",
   "execution_count": null,
   "metadata": {},
   "outputs": [],
   "source": [
    "names.push_back(\"Anna\");\n",
    "names.push_back(\"Avery\");"
   ]
  },
  {
   "cell_type": "code",
   "execution_count": null,
   "metadata": {},
   "outputs": [],
   "source": [
    "names"
   ]
  },
  {
   "cell_type": "code",
   "execution_count": null,
   "metadata": {},
   "outputs": [],
   "source": [
    "printVec(names);"
   ]
  },
  {
   "cell_type": "code",
   "execution_count": null,
   "metadata": {},
   "outputs": [],
   "source": [
    "// Get the element at index i\n",
    "names.at(0)"
   ]
  },
  {
   "cell_type": "code",
   "execution_count": null,
   "metadata": {},
   "outputs": [],
   "source": [
    "// Get the element at index i: Bracket notation\n",
    "names[0]"
   ]
  },
  {
   "cell_type": "markdown",
   "metadata": {},
   "source": [
    "Using an index out of range raises an exception if at() method is used"
   ]
  },
  {
   "cell_type": "code",
   "execution_count": null,
   "metadata": {},
   "outputs": [],
   "source": [
    "// names.at(2)\n",
    "// Standard Exception: vector::_M_range_check: __n (which is 2) >= this->size() (which is 2)"
   ]
  },
  {
   "cell_type": "markdown",
   "metadata": {},
   "source": [
    "Using an index out of range fails silently if bracket notation is used"
   ]
  },
  {
   "cell_type": "code",
   "execution_count": null,
   "metadata": {},
   "outputs": [],
   "source": [
    "// names[2]"
   ]
  },
  {
   "cell_type": "markdown",
   "metadata": {},
   "source": [
    "<h2>Iterators in C++ STL</h2>\n",
    "(https://www.geeksforgeeks.org/iterators-c-stl/)"
   ]
  },
  {
   "cell_type": "markdown",
   "metadata": {},
   "source": [
    "Iterators are used to point at the memory addresses of STL containers. They are primarily used in sequence of numbers, characters etc. They reduce the complexity and execution time of program."
   ]
  },
  {
   "cell_type": "markdown",
   "metadata": {},
   "source": [
    "<h3>Operations of iterators</h3>\n",
    "<ul>\n",
    "    <li>begin() :- This function is used to return the beginning position of the container.</li>\n",
    "    <li>end() :- This function is used to return the after end position of the container.</li>\n",
    "</ul>"
   ]
  },
  {
   "cell_type": "code",
   "execution_count": null,
   "metadata": {},
   "outputs": [],
   "source": [
    "// inserts \"John\" at front \n",
    "int i = 1; \n",
    "auto it = names.insert(names.begin(), \"John\"); "
   ]
  },
  {
   "cell_type": "code",
   "execution_count": null,
   "metadata": {},
   "outputs": [],
   "source": [
    "names"
   ]
  },
  {
   "cell_type": "code",
   "execution_count": null,
   "metadata": {},
   "outputs": [],
   "source": [
    "// inserts \"Smith\" at i-th index \n",
    "it = names.insert(names.begin() + i, \"Smith\"); "
   ]
  },
  {
   "cell_type": "code",
   "execution_count": null,
   "metadata": {},
   "outputs": [],
   "source": [
    "names"
   ]
  },
  {
   "cell_type": "markdown",
   "metadata": {},
   "source": [
    "<h2>Inserting elements in a vector</h2>\n",
    "https://www.geeksforgeeks.org/vector-insert-function-in-c-stl/"
   ]
  },
  {
   "cell_type": "code",
   "execution_count": null,
   "metadata": {},
   "outputs": [],
   "source": [
    "// initialising the vector \n",
    "vector<int> vec = { 10, 20, 30, 40 }; \n",
    "  \n",
    "// inserts 3 at front \n",
    "auto it2 = vec.insert(vec.begin(), 3); \n",
    "// inserts 2 at front \n",
    "vec.insert(it2, 2); \n",
    "\n",
    "int i2 = 2; \n",
    "// inserts 7 at i-th index \n",
    "it2 = vec.insert(vec.begin() + i2, 7); \n",
    "\n",
    "cout << \"The vector elements are: \"; \n",
    "for (auto it2 = vec.begin(); it2 != vec.end(); ++it) \n",
    "    cout << *it2 << \" \"; "
   ]
  },
  {
   "cell_type": "markdown",
   "metadata": {},
   "source": [
    "<h1>CS 106B L03 Vectors</h1>\n",
    "(Ref: Marty Stepp)"
   ]
  },
  {
   "cell_type": "markdown",
   "metadata": {},
   "source": [
    "Vector (aka list): A collection of elements with 0-based indexes. \n",
    "Can be dynamically resized"
   ]
  },
  {
   "cell_type": "code",
   "execution_count": null,
   "metadata": {},
   "outputs": [],
   "source": [
    "// Initialize a vector containing 5 integers\n",
    "vector<int> nums = {42, 17, -6, 0, 28};\n",
    "nums"
   ]
  },
  {
   "cell_type": "code",
   "execution_count": null,
   "metadata": {},
   "outputs": [],
   "source": [
    "// Initialize vector of type string\n",
    "vector<string> names2;"
   ]
  },
  {
   "cell_type": "code",
   "execution_count": null,
   "metadata": {},
   "outputs": [],
   "source": [
    "names2.push_back(\"Stu\");\n",
    "names2"
   ]
  },
  {
   "cell_type": "code",
   "execution_count": null,
   "metadata": {},
   "outputs": [],
   "source": [
    "names2.push_back(\"John\");\n",
    "names2"
   ]
  },
  {
   "cell_type": "code",
   "execution_count": null,
   "metadata": {},
   "outputs": [],
   "source": [
    "// inserts \"Ed\" at front \n",
    "auto it2 = names2.insert(names2.begin(), \"Ed\"); \n",
    "names2"
   ]
  },
  {
   "cell_type": "code",
   "execution_count": null,
   "metadata": {},
   "outputs": [],
   "source": []
  },
  {
   "cell_type": "markdown",
   "metadata": {},
   "source": [
    "<h2>Finding the sum of a vector of ints</h2>"
   ]
  },
  {
   "cell_type": "markdown",
   "metadata": {},
   "source": [
    "<h3>Method 1: Beginner</h3>"
   ]
  },
  {
   "cell_type": "code",
   "execution_count": null,
   "metadata": {},
   "outputs": [],
   "source": [
    "vector<int> vec = {1, 2, 3};\n",
    "int sum = 0;\n",
    "for (auto val : vec) {\n",
    "    sum += val;\n",
    "}\n",
    "sum"
   ]
  },
  {
   "cell_type": "markdown",
   "metadata": {},
   "source": [
    "<h3>Method 2</h3>"
   ]
  },
  {
   "cell_type": "code",
   "execution_count": null,
   "metadata": {},
   "outputs": [],
   "source": [
    "vector<int> vec2 = {1, 2, 3};\n",
    "int sum2 = 0;\n",
    "for (const auto& val: vec) {\n",
    "    sum2 += val;\n",
    "}\n",
    "sum2"
   ]
  },
  {
   "cell_type": "markdown",
   "metadata": {},
   "source": [
    "<h3>Method 3: C++ way</h3>"
   ]
  },
  {
   "cell_type": "code",
   "execution_count": null,
   "metadata": {},
   "outputs": [],
   "source": [
    "vector<int> vec3 = {1, 2, 3};\n",
    "int sum3 = std::accumulate(vec.begin(), vec.end(), 0);\n",
    "sum3"
   ]
  },
  {
   "cell_type": "code",
   "execution_count": null,
   "metadata": {},
   "outputs": [],
   "source": []
  }
 ],
 "metadata": {
  "kernelspec": {
   "display_name": "C++17",
   "language": "C++17",
   "name": "xcpp17"
  },
  "language_info": {
   "codemirror_mode": "text/x-c++src",
   "file_extension": ".cpp",
   "mimetype": "text/x-c++src",
   "name": "c++",
   "version": "17"
  }
 },
 "nbformat": 4,
 "nbformat_minor": 4
}
